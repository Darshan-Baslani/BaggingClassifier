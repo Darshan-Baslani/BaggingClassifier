{
 "cells": [
  {
   "cell_type": "code",
   "execution_count": 12,
   "id": "3ca63bea-3f1b-4dd0-99fc-ffc4d7702792",
   "metadata": {},
   "outputs": [],
   "source": [
    "import numpy as np\n",
    "from sklearn.datasets import make_moons"
   ]
  },
  {
   "cell_type": "code",
   "execution_count": 5,
   "id": "e96959e5-6e18-4fe5-a4bd-4b2258cf1118",
   "metadata": {},
   "outputs": [
    {
     "data": {
      "text/plain": [
       "[array([[4, 3, 2, 1],\n",
       "        [4, 3, 2, 1]]),\n",
       " array([[3, 3, 3, 3],\n",
       "        [2, 2, 2, 2]])]"
      ]
     },
     "execution_count": 5,
     "metadata": {},
     "output_type": "execute_result"
    }
   ],
   "source": [
    "np.meshgrid((4,3,2,1), (3,2))"
   ]
  },
  {
   "cell_type": "code",
   "execution_count": 6,
   "id": "2e9b47a4-a811-4ffc-b4cd-85a082bdd5d4",
   "metadata": {},
   "outputs": [
    {
     "data": {
      "text/plain": [
       "array([1, 2, 3, 4])"
      ]
     },
     "execution_count": 6,
     "metadata": {},
     "output_type": "execute_result"
    }
   ],
   "source": [
    "np.arange(1, 5)"
   ]
  },
  {
   "cell_type": "code",
   "execution_count": 9,
   "id": "24971cd5-5d69-4d69-abb6-ee5624bf36ef",
   "metadata": {},
   "outputs": [
    {
     "data": {
      "text/plain": [
       "array([0, 2, 4, 6, 8])"
      ]
     },
     "execution_count": 9,
     "metadata": {},
     "output_type": "execute_result"
    }
   ],
   "source": [
    "np.arange(0, 10, 2)"
   ]
  },
  {
   "cell_type": "code",
   "execution_count": 11,
   "id": "0a580604-922d-4330-bc8c-391fc10db96d",
   "metadata": {},
   "outputs": [
    {
     "data": {
      "text/plain": [
       "array([0. , 0.5, 1. , 1.5, 2. , 2.5, 3. , 3.5, 4. , 4.5, 5. , 5.5, 6. ,\n",
       "       6.5, 7. , 7.5, 8. , 8.5, 9. , 9.5])"
      ]
     },
     "execution_count": 11,
     "metadata": {},
     "output_type": "execute_result"
    }
   ],
   "source": [
    "np.arange(0,10,0.5)"
   ]
  },
  {
   "cell_type": "code",
   "execution_count": 61,
   "id": "521d7516-5b21-4611-97ed-3e07139b6178",
   "metadata": {},
   "outputs": [],
   "source": [
    "X, y = make_moons(n_samples=10, noise=0.30, random_state=402)"
   ]
  },
  {
   "cell_type": "code",
   "execution_count": 62,
   "id": "ca8affde-c9fa-4516-aad3-aaf1934aa739",
   "metadata": {},
   "outputs": [
    {
     "data": {
      "text/plain": [
       "array([1, 0, 0, 0, 0, 1, 0, 1, 1, 1])"
      ]
     },
     "execution_count": 62,
     "metadata": {},
     "output_type": "execute_result"
    }
   ],
   "source": [
    "y"
   ]
  },
  {
   "cell_type": "code",
   "execution_count": 63,
   "id": "42104ed8-1628-4ddf-a9fe-53d61233e9d7",
   "metadata": {},
   "outputs": [
    {
     "data": {
      "text/plain": [
       "-2.085768632301633"
      ]
     },
     "execution_count": 63,
     "metadata": {},
     "output_type": "execute_result"
    }
   ],
   "source": [
    "X[:,0].min() - 1"
   ]
  },
  {
   "cell_type": "code",
   "execution_count": 64,
   "id": "cefe51f6-3e54-4305-a4cd-0d601c99d988",
   "metadata": {},
   "outputs": [
    {
     "name": "stdout",
     "output_type": "stream",
     "text": [
      "False\n"
     ]
    },
    {
     "name": "stderr",
     "output_type": "stream",
     "text": [
      "/tmp/ipykernel_34492/4177616209.py:1: DeprecationWarning: elementwise comparison failed; this will raise an error in the future.\n",
      "  print(X[:-1] == X)\n"
     ]
    }
   ],
   "source": [
    "print(X[:-1] == X)"
   ]
  },
  {
   "cell_type": "code",
   "execution_count": 65,
   "id": "6801040f-58f8-4997-83bc-3decd1903abf",
   "metadata": {},
   "outputs": [
    {
     "name": "stderr",
     "output_type": "stream",
     "text": [
      "/tmp/ipykernel_34492/1283581506.py:1: DeprecationWarning: elementwise comparison failed; this will raise an error in the future.\n",
      "  X[:-1] == X\n"
     ]
    },
    {
     "data": {
      "text/plain": [
       "False"
      ]
     },
     "execution_count": 65,
     "metadata": {},
     "output_type": "execute_result"
    }
   ],
   "source": [
    "X[:-1] == X"
   ]
  },
  {
   "cell_type": "code",
   "execution_count": 66,
   "id": "9fa376f4-479a-4710-bd50-a8626eea7a74",
   "metadata": {},
   "outputs": [
    {
     "data": {
      "text/plain": [
       "(9, 2)"
      ]
     },
     "execution_count": 66,
     "metadata": {},
     "output_type": "execute_result"
    }
   ],
   "source": [
    "X[:-1].shape"
   ]
  },
  {
   "cell_type": "code",
   "execution_count": 67,
   "id": "b8247f85-f0c5-42bb-8fb0-a943392feda5",
   "metadata": {},
   "outputs": [
    {
     "data": {
      "text/plain": [
       "(10, 2)"
      ]
     },
     "execution_count": 67,
     "metadata": {},
     "output_type": "execute_result"
    }
   ],
   "source": [
    "X.shape"
   ]
  },
  {
   "cell_type": "code",
   "execution_count": 68,
   "id": "49463e4c-22fe-4b52-ab2c-978e023f1d70",
   "metadata": {},
   "outputs": [
    {
     "data": {
      "text/plain": [
       "(10,)"
      ]
     },
     "execution_count": 68,
     "metadata": {},
     "output_type": "execute_result"
    }
   ],
   "source": [
    "X[:, 0].shape"
   ]
  },
  {
   "cell_type": "code",
   "execution_count": 69,
   "id": "54b098b3-7fc6-42a6-a568-6eb90806e201",
   "metadata": {},
   "outputs": [
    {
     "data": {
      "text/plain": [
       "(10, 1)"
      ]
     },
     "execution_count": 69,
     "metadata": {},
     "output_type": "execute_result"
    }
   ],
   "source": [
    "X[:, :1].shape"
   ]
  },
  {
   "cell_type": "code",
   "execution_count": 86,
   "id": "dee2d239-fb2f-4cda-b87c-5c6fb8a0eb18",
   "metadata": {},
   "outputs": [
    {
     "data": {
      "text/plain": [
       "array([ 1.00053173,  0.44345058,  0.74735173, -1.08576863, -0.57297622,\n",
       "        2.1168141 ,  0.09042206,  1.65851281,  0.03189579,  0.07394162])"
      ]
     },
     "execution_count": 86,
     "metadata": {},
     "output_type": "execute_result"
    }
   ],
   "source": [
    "X[:, 0]"
   ]
  },
  {
   "cell_type": "code",
   "execution_count": 84,
   "id": "58099927-ba96-44da-949f-248736163c3d",
   "metadata": {},
   "outputs": [
    {
     "data": {
      "text/plain": [
       "array([[ 1.00053173],\n",
       "       [ 0.44345058],\n",
       "       [ 0.74735173],\n",
       "       [-1.08576863],\n",
       "       [-0.57297622],\n",
       "       [ 2.1168141 ],\n",
       "       [ 0.09042206],\n",
       "       [ 1.65851281],\n",
       "       [ 0.03189579],\n",
       "       [ 0.07394162]])"
      ]
     },
     "execution_count": 84,
     "metadata": {},
     "output_type": "execute_result"
    }
   ],
   "source": [
    "X[:, :1]"
   ]
  },
  {
   "cell_type": "code",
   "execution_count": 85,
   "id": "ddf738d7-9dc3-48ad-8a2b-6d4c5a32f2f6",
   "metadata": {},
   "outputs": [
    {
     "data": {
      "text/plain": [
       "array([[ 1.00053173, -0.8217019 ],\n",
       "       [ 0.44345058, -0.18811445],\n",
       "       [ 0.74735173,  0.61455342],\n",
       "       [-1.08576863,  0.74007468],\n",
       "       [-0.57297622, -0.00557077],\n",
       "       [ 2.1168141 , -0.24965947],\n",
       "       [ 0.09042206,  0.76430205],\n",
       "       [ 1.65851281,  0.42581076],\n",
       "       [ 0.03189579, -0.2166185 ],\n",
       "       [ 0.07394162,  0.60424155]])"
      ]
     },
     "execution_count": 85,
     "metadata": {},
     "output_type": "execute_result"
    }
   ],
   "source": [
    "X"
   ]
  },
  {
   "cell_type": "code",
   "execution_count": 91,
   "id": "eb0961b9-8444-4c3a-b255-56fb95acc5cc",
   "metadata": {},
   "outputs": [
    {
     "data": {
      "text/plain": [
       "[array([[ 1.00053173, -0.8217019 ,  0.44345058, -0.18811445,  0.74735173,\n",
       "          0.61455342, -1.08576863,  0.74007468, -0.57297622, -0.00557077,\n",
       "          2.1168141 , -0.24965947,  0.09042206,  0.76430205,  1.65851281,\n",
       "          0.42581076,  0.03189579, -0.2166185 ,  0.07394162,  0.60424155],\n",
       "        [ 1.00053173, -0.8217019 ,  0.44345058, -0.18811445,  0.74735173,\n",
       "          0.61455342, -1.08576863,  0.74007468, -0.57297622, -0.00557077,\n",
       "          2.1168141 , -0.24965947,  0.09042206,  0.76430205,  1.65851281,\n",
       "          0.42581076,  0.03189579, -0.2166185 ,  0.07394162,  0.60424155],\n",
       "        [ 1.00053173, -0.8217019 ,  0.44345058, -0.18811445,  0.74735173,\n",
       "          0.61455342, -1.08576863,  0.74007468, -0.57297622, -0.00557077,\n",
       "          2.1168141 , -0.24965947,  0.09042206,  0.76430205,  1.65851281,\n",
       "          0.42581076,  0.03189579, -0.2166185 ,  0.07394162,  0.60424155],\n",
       "        [ 1.00053173, -0.8217019 ,  0.44345058, -0.18811445,  0.74735173,\n",
       "          0.61455342, -1.08576863,  0.74007468, -0.57297622, -0.00557077,\n",
       "          2.1168141 , -0.24965947,  0.09042206,  0.76430205,  1.65851281,\n",
       "          0.42581076,  0.03189579, -0.2166185 ,  0.07394162,  0.60424155],\n",
       "        [ 1.00053173, -0.8217019 ,  0.44345058, -0.18811445,  0.74735173,\n",
       "          0.61455342, -1.08576863,  0.74007468, -0.57297622, -0.00557077,\n",
       "          2.1168141 , -0.24965947,  0.09042206,  0.76430205,  1.65851281,\n",
       "          0.42581076,  0.03189579, -0.2166185 ,  0.07394162,  0.60424155],\n",
       "        [ 1.00053173, -0.8217019 ,  0.44345058, -0.18811445,  0.74735173,\n",
       "          0.61455342, -1.08576863,  0.74007468, -0.57297622, -0.00557077,\n",
       "          2.1168141 , -0.24965947,  0.09042206,  0.76430205,  1.65851281,\n",
       "          0.42581076,  0.03189579, -0.2166185 ,  0.07394162,  0.60424155],\n",
       "        [ 1.00053173, -0.8217019 ,  0.44345058, -0.18811445,  0.74735173,\n",
       "          0.61455342, -1.08576863,  0.74007468, -0.57297622, -0.00557077,\n",
       "          2.1168141 , -0.24965947,  0.09042206,  0.76430205,  1.65851281,\n",
       "          0.42581076,  0.03189579, -0.2166185 ,  0.07394162,  0.60424155],\n",
       "        [ 1.00053173, -0.8217019 ,  0.44345058, -0.18811445,  0.74735173,\n",
       "          0.61455342, -1.08576863,  0.74007468, -0.57297622, -0.00557077,\n",
       "          2.1168141 , -0.24965947,  0.09042206,  0.76430205,  1.65851281,\n",
       "          0.42581076,  0.03189579, -0.2166185 ,  0.07394162,  0.60424155],\n",
       "        [ 1.00053173, -0.8217019 ,  0.44345058, -0.18811445,  0.74735173,\n",
       "          0.61455342, -1.08576863,  0.74007468, -0.57297622, -0.00557077,\n",
       "          2.1168141 , -0.24965947,  0.09042206,  0.76430205,  1.65851281,\n",
       "          0.42581076,  0.03189579, -0.2166185 ,  0.07394162,  0.60424155],\n",
       "        [ 1.00053173, -0.8217019 ,  0.44345058, -0.18811445,  0.74735173,\n",
       "          0.61455342, -1.08576863,  0.74007468, -0.57297622, -0.00557077,\n",
       "          2.1168141 , -0.24965947,  0.09042206,  0.76430205,  1.65851281,\n",
       "          0.42581076,  0.03189579, -0.2166185 ,  0.07394162,  0.60424155]]),\n",
       " array([[1, 1, 1, 1, 1, 1, 1, 1, 1, 1, 1, 1, 1, 1, 1, 1, 1, 1, 1, 1],\n",
       "        [0, 0, 0, 0, 0, 0, 0, 0, 0, 0, 0, 0, 0, 0, 0, 0, 0, 0, 0, 0],\n",
       "        [0, 0, 0, 0, 0, 0, 0, 0, 0, 0, 0, 0, 0, 0, 0, 0, 0, 0, 0, 0],\n",
       "        [0, 0, 0, 0, 0, 0, 0, 0, 0, 0, 0, 0, 0, 0, 0, 0, 0, 0, 0, 0],\n",
       "        [0, 0, 0, 0, 0, 0, 0, 0, 0, 0, 0, 0, 0, 0, 0, 0, 0, 0, 0, 0],\n",
       "        [1, 1, 1, 1, 1, 1, 1, 1, 1, 1, 1, 1, 1, 1, 1, 1, 1, 1, 1, 1],\n",
       "        [0, 0, 0, 0, 0, 0, 0, 0, 0, 0, 0, 0, 0, 0, 0, 0, 0, 0, 0, 0],\n",
       "        [1, 1, 1, 1, 1, 1, 1, 1, 1, 1, 1, 1, 1, 1, 1, 1, 1, 1, 1, 1],\n",
       "        [1, 1, 1, 1, 1, 1, 1, 1, 1, 1, 1, 1, 1, 1, 1, 1, 1, 1, 1, 1],\n",
       "        [1, 1, 1, 1, 1, 1, 1, 1, 1, 1, 1, 1, 1, 1, 1, 1, 1, 1, 1, 1]])]"
      ]
     },
     "execution_count": 91,
     "metadata": {},
     "output_type": "execute_result"
    }
   ],
   "source": [
    "np.meshgrid(X,y)"
   ]
  },
  {
   "cell_type": "code",
   "execution_count": null,
   "id": "f5442f45-8003-442a-8086-73c3c285c148",
   "metadata": {},
   "outputs": [],
   "source": []
  }
 ],
 "metadata": {
  "kernelspec": {
   "display_name": "Python 3 (ipykernel)",
   "language": "python",
   "name": "python3"
  },
  "language_info": {
   "codemirror_mode": {
    "name": "ipython",
    "version": 3
   },
   "file_extension": ".py",
   "mimetype": "text/x-python",
   "name": "python",
   "nbconvert_exporter": "python",
   "pygments_lexer": "ipython3",
   "version": "3.11.6"
  }
 },
 "nbformat": 4,
 "nbformat_minor": 5
}
